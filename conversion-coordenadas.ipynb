{
 "cells": [
  {
   "cell_type": "markdown",
   "metadata": {},
   "source": [
    "### Converta uma velocidade radial para o Padrão Galáctico de Repouso (GSR)"
   ]
  },
  {
   "cell_type": "markdown",
   "metadata": {},
   "source": [
    "###### instalando modulos"
   ]
  },
  {
   "cell_type": "code",
   "execution_count": 31,
   "metadata": {},
   "outputs": [],
   "source": [
    "import astropy.coordinates as coord\n",
    "import astropy.units as u"
   ]
  },
  {
   "cell_type": "markdown",
   "metadata": {},
   "source": [
    "#### definido inserção de conversção de coordenadas galactocêntricas"
   ]
  },
  {
   "cell_type": "code",
   "execution_count": 32,
   "metadata": {},
   "outputs": [
    {
     "data": {
      "text/plain": [
       "<ScienceState galactocentric_frame_defaults: {'galcen_coord': <ICRS Coordinate: (ra, dec) in deg...>"
      ]
     },
     "execution_count": 32,
     "metadata": {},
     "output_type": "execute_result"
    }
   ],
   "source": [
    "coord.galactocentric_frame_defaults.set('latest')"
   ]
  },
  {
   "cell_type": "markdown",
   "metadata": {},
   "source": [
    "#### definindo, as coordenadas e a velocidade radial baricêntrica da galaxia M87, obtidas de Simbad :"
   ]
  },
  {
   "cell_type": "code",
   "execution_count": 33,
   "metadata": {},
   "outputs": [],
   "source": [
    "coordenadasM87 = coord.SkyCoord(ra = 49.42338414 * u.deg, dec = 28.0436859 *u.deg,\n",
    "radial_velocity = -16.1*u.km/u.s,frame = 'icrs')"
   ]
  },
  {
   "cell_type": "markdown",
   "metadata": {},
   "source": [
    "#### Em seguida, precisamos decidir sobre a velocidade do Sol no referencial GSR assumido. Usaremos o mesmo vetor de velocidade usado no Galactocentricquadro e o converteremos em um CartesianRepresentationobjeto usando o .to_cartesian()método do CartesianDifferentialobjeto galcen_v_sun:"
   ]
  },
  {
   "cell_type": "code",
   "execution_count": 34,
   "metadata": {},
   "outputs": [],
   "source": [
    "sun = coord.Galactocentric().galcen_v_sun.to_cartesian()"
   ]
  },
  {
   "cell_type": "markdown",
   "metadata": {},
   "source": [
    " ####  galáctico assumido a partir da posição do céu no referencial ICRS acima. Usaremos este vetor unitário para projetar a velocidade solar na linha de visão:"
   ]
  },
  {
   "cell_type": "code",
   "execution_count": 35,
   "metadata": {},
   "outputs": [],
   "source": [
    "gal = coordenadasM87.transform_to(coord.Galactic)\n",
    "cart_data = gal.data.to_cartesian()\n",
    "unit_vector = cart_data / cart_data.norm()"
   ]
  },
  {
   "cell_type": "markdown",
   "metadata": {},
   "source": [
    "#### Agora projetamos a velocidade solar usando este vetor unitario"
   ]
  },
  {
   "cell_type": "code",
   "execution_count": 36,
   "metadata": {},
   "outputs": [],
   "source": [
    "velocidade_sun = sun.dot(unit_vector)"
   ]
  },
  {
   "cell_type": "markdown",
   "metadata": {},
   "source": [
    "#### Inserindo a projeção da velocidade solar á velocidade radial para obter uma velocidade radial GSR  "
   ]
  },
  {
   "cell_type": "code",
   "execution_count": 37,
   "metadata": {},
   "outputs": [
    {
     "name": "stdout",
     "output_type": "stream",
     "text": [
      "52.448856873415004 km / s\n"
     ]
    }
   ],
   "source": [
    "rv_gsr = coordenadasM87.radial_velocity + velocidade_sun\n",
    "print(rv_gsr)"
   ]
  }
 ],
 "metadata": {
  "kernelspec": {
   "display_name": "Python 3",
   "language": "python",
   "name": "python3"
  },
  "language_info": {
   "codemirror_mode": {
    "name": "ipython",
    "version": 3
   },
   "file_extension": ".py",
   "mimetype": "text/x-python",
   "name": "python",
   "nbconvert_exporter": "python",
   "pygments_lexer": "ipython3",
   "version": "3.10.12"
  },
  "orig_nbformat": 4
 },
 "nbformat": 4,
 "nbformat_minor": 2
}
